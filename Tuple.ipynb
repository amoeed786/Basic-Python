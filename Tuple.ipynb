{
 "cells": [
  {
   "cell_type": "markdown",
   "id": "1488806a",
   "metadata": {},
   "source": [
    "### Assignment-04 (Tuple)\n",
    "- Change the notebook name with your name and Roll Number.\n",
    "- Try this as your own, no chatgpt (it's for your learning)\n",
    "- after completing the assignment, submit this book on google class room."
   ]
  },
  {
   "cell_type": "markdown",
   "id": "0f49daa5",
   "metadata": {},
   "source": [
    "    Create an empty tuple and print it.\n",
    "        "
   ]
  },
  {
   "cell_type": "code",
   "execution_count": 4,
   "id": "9f34fb22",
   "metadata": {},
   "outputs": [
    {
     "data": {
      "text/plain": [
       "()"
      ]
     },
     "execution_count": 4,
     "metadata": {},
     "output_type": "execute_result"
    }
   ],
   "source": [
    "empty_tuple=()\n",
    "empty_tuple"
   ]
  },
  {
   "cell_type": "markdown",
   "id": "e043fa87",
   "metadata": {},
   "source": [
    "    Create a tuple of your favorite fruits and print it.\n"
   ]
  },
  {
   "cell_type": "code",
   "execution_count": 5,
   "id": "a8075e3e",
   "metadata": {},
   "outputs": [
    {
     "data": {
      "text/plain": [
       "('Mango', 'Apple', 'Orange', 'Apricot')"
      ]
     },
     "execution_count": 5,
     "metadata": {},
     "output_type": "execute_result"
    }
   ],
   "source": [
    "tuple1=('Mango','Apple','Orange','Apricot')\n",
    "tuple1"
   ]
  },
  {
   "cell_type": "markdown",
   "id": "63103aae",
   "metadata": {},
   "source": [
    "    Create a tuple that includes a mix of data types (integers, strings, floats).\n",
    "  "
   ]
  },
  {
   "cell_type": "code",
   "execution_count": 6,
   "id": "02d21498",
   "metadata": {},
   "outputs": [
    {
     "data": {
      "text/plain": [
       "('Mango', 123.87, 'Apple', 345, 'Hello')"
      ]
     },
     "execution_count": 6,
     "metadata": {},
     "output_type": "execute_result"
    }
   ],
   "source": [
    "tuple1=('Mango',123.87,'Apple',345,'Hello')\n",
    "tuple1"
   ]
  },
  {
   "cell_type": "markdown",
   "id": "704e22bb",
   "metadata": {},
   "source": [
    "  Access the first element of a tuple.\n"
   ]
  },
  {
   "cell_type": "code",
   "execution_count": 7,
   "id": "bf90e463",
   "metadata": {},
   "outputs": [
    {
     "data": {
      "text/plain": [
       "'Mango'"
      ]
     },
     "execution_count": 7,
     "metadata": {},
     "output_type": "execute_result"
    }
   ],
   "source": [
    "tuple1[0]"
   ]
  },
  {
   "cell_type": "markdown",
   "id": "26563419",
   "metadata": {},
   "source": [
    "    Access the last element of a tuple."
   ]
  },
  {
   "cell_type": "code",
   "execution_count": 8,
   "id": "54b98b3a",
   "metadata": {},
   "outputs": [
    {
     "data": {
      "text/plain": [
       "'Hello'"
      ]
     },
     "execution_count": 8,
     "metadata": {},
     "output_type": "execute_result"
    }
   ],
   "source": [
    "tuple1[-1]"
   ]
  },
  {
   "cell_type": "markdown",
   "id": "15d49e96",
   "metadata": {},
   "source": [
    "Access the second and third elements of a tuple.\n"
   ]
  },
  {
   "cell_type": "code",
   "execution_count": 9,
   "id": "1b8f2886",
   "metadata": {},
   "outputs": [
    {
     "name": "stdout",
     "output_type": "stream",
     "text": [
      "123.87\n",
      "Apple\n"
     ]
    }
   ],
   "source": [
    "print(tuple1[1])\n",
    "print(tuple1[2])"
   ]
  },
  {
   "cell_type": "markdown",
   "id": "069741b2",
   "metadata": {},
   "source": [
    "\n",
    "    Slice a tuple to extract the first three elements.\n",
    "    "
   ]
  },
  {
   "cell_type": "code",
   "execution_count": 10,
   "id": "ba3f17f2",
   "metadata": {},
   "outputs": [
    {
     "data": {
      "text/plain": [
       "('Mango', 123.87, 'Apple')"
      ]
     },
     "execution_count": 10,
     "metadata": {},
     "output_type": "execute_result"
    }
   ],
   "source": [
    "tuple1[0:3]"
   ]
  },
  {
   "cell_type": "markdown",
   "id": "f5f8af36",
   "metadata": {},
   "source": [
    "Slice a tuple to extract the last three elements.\n",
    " "
   ]
  },
  {
   "cell_type": "code",
   "execution_count": 11,
   "id": "72b61419",
   "metadata": {},
   "outputs": [
    {
     "data": {
      "text/plain": [
       "('Apple', 345, 'Hello')"
      ]
     },
     "execution_count": 11,
     "metadata": {},
     "output_type": "execute_result"
    }
   ],
   "source": [
    "tuple1[-3::]"
   ]
  },
  {
   "cell_type": "markdown",
   "id": "fbf3a8e6",
   "metadata": {},
   "source": [
    "   Slice a tuple to get every second element.\n"
   ]
  },
  {
   "cell_type": "code",
   "execution_count": 12,
   "id": "2f28222b",
   "metadata": {},
   "outputs": [
    {
     "data": {
      "text/plain": [
       "('Mango', 'Apple', 'Hello')"
      ]
     },
     "execution_count": 12,
     "metadata": {},
     "output_type": "execute_result"
    }
   ],
   "source": [
    "tuple1[::2]"
   ]
  },
  {
   "cell_type": "markdown",
   "id": "972a3d7e",
   "metadata": {},
   "source": [
    "    Reverse a tuple using slicing."
   ]
  },
  {
   "cell_type": "code",
   "execution_count": 13,
   "id": "a0c026b2",
   "metadata": {},
   "outputs": [
    {
     "data": {
      "text/plain": [
       "('Hello', 345, 'Apple', 123.87, 'Mango')"
      ]
     },
     "execution_count": 13,
     "metadata": {},
     "output_type": "execute_result"
    }
   ],
   "source": [
    "tuple1[::-1]"
   ]
  },
  {
   "cell_type": "markdown",
   "id": "ff819f8c",
   "metadata": {},
   "source": [
    "Create two tuples and concatenate them.\n",
    "\n"
   ]
  },
  {
   "cell_type": "code",
   "execution_count": 14,
   "id": "34bb1253",
   "metadata": {},
   "outputs": [
    {
     "data": {
      "text/plain": [
       "('Mango',\n",
       " 123.87,\n",
       " 'Apple',\n",
       " 345,\n",
       " 'Hello',\n",
       " 'Abdul Moeed',\n",
       " 20,\n",
       " 3,\n",
       " 'Bsdsf21a004',\n",
       " 345)"
      ]
     },
     "execution_count": 14,
     "metadata": {},
     "output_type": "execute_result"
    }
   ],
   "source": [
    "tuple2=('Abdul Moeed',20,3,'Bsdsf21a004',345)\n",
    "concat_tuple=tuple1+tuple2\n",
    "concat_tuple"
   ]
  },
  {
   "cell_type": "markdown",
   "id": "6f81c447",
   "metadata": {},
   "source": [
    "    Repeat a tuple multiple times using the repetition operator."
   ]
  },
  {
   "cell_type": "code",
   "execution_count": 15,
   "id": "a7993e54",
   "metadata": {},
   "outputs": [
    {
     "data": {
      "text/plain": [
       "('Mango',\n",
       " 123.87,\n",
       " 'Apple',\n",
       " 345,\n",
       " 'Hello',\n",
       " 'Mango',\n",
       " 123.87,\n",
       " 'Apple',\n",
       " 345,\n",
       " 'Hello')"
      ]
     },
     "execution_count": 15,
     "metadata": {},
     "output_type": "execute_result"
    }
   ],
   "source": [
    "tuple1*2"
   ]
  },
  {
   "cell_type": "markdown",
   "id": "e39bdb1d",
   "metadata": {},
   "source": [
    "Find the index of a specific element in a tuple using the index() method."
   ]
  },
  {
   "cell_type": "code",
   "execution_count": 16,
   "id": "d0887521",
   "metadata": {},
   "outputs": [
    {
     "data": {
      "text/plain": [
       "4"
      ]
     },
     "execution_count": 16,
     "metadata": {},
     "output_type": "execute_result"
    }
   ],
   "source": [
    "tuple1.index('Hello')"
   ]
  },
  {
   "cell_type": "markdown",
   "id": "fc66ca7e",
   "metadata": {},
   "source": [
    "    Count the number of occurrences of a specific element in a tuple using the count() method."
   ]
  },
  {
   "cell_type": "code",
   "execution_count": 17,
   "id": "d9bf2831",
   "metadata": {},
   "outputs": [
    {
     "data": {
      "text/plain": [
       "2"
      ]
     },
     "execution_count": 17,
     "metadata": {},
     "output_type": "execute_result"
    }
   ],
   "source": [
    "concat_tuple.count(345)"
   ]
  },
  {
   "cell_type": "markdown",
   "id": "9bdef970",
   "metadata": {},
   "source": [
    "Sort a tuple of numbers in ascending order.\n",
    "\n"
   ]
  },
  {
   "cell_type": "code",
   "execution_count": 18,
   "id": "326fca51",
   "metadata": {},
   "outputs": [
    {
     "data": {
      "text/plain": [
       "(1, 2, 9, 12, 54)"
      ]
     },
     "execution_count": 18,
     "metadata": {},
     "output_type": "execute_result"
    }
   ],
   "source": [
    "num_tuple=(12,9,54,2,1)\n",
    "tuple(sorted(num_tuple))"
   ]
  },
  {
   "cell_type": "markdown",
   "id": "2b1d9be5",
   "metadata": {},
   "source": [
    "    Sort a tuple of strings in alphabetical order."
   ]
  },
  {
   "cell_type": "code",
   "execution_count": 19,
   "id": "5b0a511f",
   "metadata": {},
   "outputs": [
    {
     "data": {
      "text/plain": [
       "['Apple', 'Apricot', 'Mango', 'Orange']"
      ]
     },
     "execution_count": 19,
     "metadata": {},
     "output_type": "execute_result"
    }
   ],
   "source": [
    "alpha_tuple=('Mango','Apple','Orange','Apricot')\n",
    "sorted(alpha_tuple)"
   ]
  },
  {
   "cell_type": "markdown",
   "id": "0393ae63",
   "metadata": {},
   "source": [
    "Sort a tuple of tuples based on the second element of each inner tuple."
   ]
  },
  {
   "cell_type": "code",
   "execution_count": 40,
   "id": "5b0d33fd",
   "metadata": {
    "scrolled": true
   },
   "outputs": [],
   "source": [
    "nested_tuple=(('Abdul Moeed',25),('Bsdsf21a004',5),('Fall',3))\n",
    "tuple(sorted(nested_tuple, key=lambda x: x[1]))"
   ]
  },
  {
   "cell_type": "markdown",
   "id": "65b8f449",
   "metadata": {},
   "source": [
    "Compare two tuples to see if they are equal in both value and identity."
   ]
  },
  {
   "cell_type": "code",
   "execution_count": 23,
   "id": "e09a6135",
   "metadata": {},
   "outputs": [
    {
     "name": "stdout",
     "output_type": "stream",
     "text": [
      "False\n",
      "True\n"
     ]
    }
   ],
   "source": [
    "if alpha_tuple == num_tuple:\n",
    "    print(True)\n",
    "else:\n",
    "    print(False)\n",
    "if alpha_tuple is alpha_tuple:\n",
    "    print(True)\n",
    "else: \n",
    "    print(False)"
   ]
  },
  {
   "cell_type": "markdown",
   "id": "0810cc18",
   "metadata": {},
   "source": [
    "Create a shallow copy of a tuple and observe the effects of modifying one of the tuples.\n",
    "\n"
   ]
  },
  {
   "cell_type": "code",
   "execution_count": 32,
   "id": "426bacd6",
   "metadata": {},
   "outputs": [
    {
     "name": "stdout",
     "output_type": "stream",
     "text": [
      "Copied:  ('Apple', 'Apricot', 'Mango', 'Orange')\n",
      "Original:  ('Apple', 'Apricot', 'Mango', 'Orange')\n"
     ]
    }
   ],
   "source": [
    "import copy\n",
    "shallowcopy=copy.copy(alpha_tuple)\n",
    "shallowcopy=tuple(sorted(shallowcopy))\n",
    "print('Copied: ',shallowcopy)\n",
    "print('Original: ',alpha_tuple)"
   ]
  },
  {
   "cell_type": "markdown",
   "id": "f14455c5",
   "metadata": {},
   "source": [
    "    Create a deep copy of a nested tuple and observe the effects of modifying one of the tuples.\n"
   ]
  },
  {
   "cell_type": "code",
   "execution_count": 41,
   "id": "4564c764",
   "metadata": {},
   "outputs": [
    {
     "name": "stdout",
     "output_type": "stream",
     "text": [
      "Copied:  (('Fall', 3), ('Bsdsf21a004', 5), ('Abdul Moeed', 25))\n",
      "Original:  (('Abdul Moeed', 25), ('Bsdsf21a004', 5), ('Fall', 3))\n"
     ]
    }
   ],
   "source": [
    "deepcopy=copy.deepcopy(nested_tuple)\n",
    "deepcopy=tuple(sorted(deepcopy, key=lambda x: x[1]))\n",
    "print('Copied: ',deepcopy)\n",
    "print('Original: ',nested_tuple)"
   ]
  },
  {
   "cell_type": "markdown",
   "id": "b01879a0",
   "metadata": {},
   "source": [
    "    Pickle a tuple and save it to a file.\n"
   ]
  },
  {
   "cell_type": "code",
   "execution_count": 42,
   "id": "55ddfbd4",
   "metadata": {},
   "outputs": [],
   "source": [
    "import pickle\n",
    "with open('testfile.txt','wb') as work:\n",
    "    pickle.dump(tuple1,work)"
   ]
  },
  {
   "cell_type": "markdown",
   "id": "6874f46a",
   "metadata": {},
   "source": [
    "    Unpickle a tuple from a file and display its content."
   ]
  },
  {
   "cell_type": "code",
   "execution_count": 44,
   "id": "02f8549f",
   "metadata": {},
   "outputs": [
    {
     "name": "stdout",
     "output_type": "stream",
     "text": [
      "('Mango', 123.87, 'Apple', 345, 'Hello')\n"
     ]
    }
   ],
   "source": [
    "with open('testfile.txt','rb') as work:\n",
    "    unpickle=pickle.load(work)\n",
    "print(unpickle)"
   ]
  },
  {
   "cell_type": "code",
   "execution_count": null,
   "id": "3e8fc274-2729-44ae-9753-60e1bce409d9",
   "metadata": {},
   "outputs": [],
   "source": []
  }
 ],
 "metadata": {
  "kernelspec": {
   "display_name": "Python 3 (ipykernel)",
   "language": "python",
   "name": "python3"
  },
  "language_info": {
   "codemirror_mode": {
    "name": "ipython",
    "version": 3
   },
   "file_extension": ".py",
   "mimetype": "text/x-python",
   "name": "python",
   "nbconvert_exporter": "python",
   "pygments_lexer": "ipython3",
   "version": "3.11.7"
  }
 },
 "nbformat": 4,
 "nbformat_minor": 5
}
